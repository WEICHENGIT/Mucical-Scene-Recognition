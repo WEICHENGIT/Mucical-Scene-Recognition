{
 "cells": [
  {
   "cell_type": "code",
   "execution_count": 42,
   "metadata": {
    "collapsed": true
   },
   "outputs": [],
   "source": [
    "import librosa\n",
    "import pandas as pd\n",
    "import numpy as np"
   ]
  },
  {
   "cell_type": "code",
   "execution_count": 34,
   "metadata": {
    "collapsed": false
   },
   "outputs": [],
   "source": [
    "dev = open('dev.txt','r')\n",
    "file_name = []\n",
    "labels = []\n",
    "for line in dev.readlines():\n",
    "    file_name.append(line.split(' ')[0])\n",
    "    labels.append(line.split(' ')[1])"
   ]
  },
  {
   "cell_type": "code",
   "execution_count": 54,
   "metadata": {
    "collapsed": false
   },
   "outputs": [],
   "source": [
    "df = np.loadtxt(\"dev.txt\",dtype='string')\n",
    "test_fn =  df[:,0]\n",
    "test_labels = df[:,1]"
   ]
  },
  {
   "cell_type": "code",
   "execution_count": 55,
   "metadata": {
    "collapsed": false
   },
   "outputs": [
    {
     "name": "stdout",
     "output_type": "stream",
     "text": [
      "['beach' 'beach' 'beach' 'beach' 'beach' 'beach' 'beach' 'beach' 'beach'\n",
      " 'beach' 'beach' 'beach' 'beach' 'beach' 'beach' 'beach' 'beach' 'beach'\n",
      " 'beach' 'beach' 'beach' 'bus' 'bus' 'bus' 'bus' 'bus' 'bus' 'bus' 'bus'\n",
      " 'bus' 'bus' 'bus' 'bus' 'bus' 'bus' 'bus' 'bus' 'bus' 'bus' 'bus' 'bus'\n",
      " 'cafe/restaurant' 'cafe/restaurant' 'cafe/restaurant' 'cafe/restaurant'\n",
      " 'cafe/restaurant' 'cafe/restaurant' 'cafe/restaurant' 'cafe/restaurant'\n",
      " 'cafe/restaurant' 'cafe/restaurant' 'cafe/restaurant' 'cafe/restaurant'\n",
      " 'cafe/restaurant' 'cafe/restaurant' 'cafe/restaurant' 'cafe/restaurant'\n",
      " 'cafe/restaurant' 'cafe/restaurant' 'cafe/restaurant' 'car' 'car' 'car'\n",
      " 'car' 'car' 'car' 'car' 'car' 'car' 'car' 'car' 'car' 'car' 'car' 'car'\n",
      " 'car' 'car' 'car' 'car' 'city_center' 'city_center' 'city_center'\n",
      " 'city_center' 'city_center' 'city_center' 'city_center' 'city_center'\n",
      " 'city_center' 'city_center' 'city_center' 'city_center' 'city_center'\n",
      " 'city_center' 'city_center' 'city_center' 'city_center' 'city_center'\n",
      " 'city_center' 'forest_path' 'forest_path' 'forest_path' 'forest_path'\n",
      " 'forest_path' 'forest_path' 'forest_path' 'forest_path' 'forest_path'\n",
      " 'forest_path' 'forest_path' 'forest_path' 'forest_path' 'forest_path'\n",
      " 'forest_path' 'forest_path' 'forest_path' 'forest_path' 'grocery_store'\n",
      " 'grocery_store' 'grocery_store' 'grocery_store' 'grocery_store'\n",
      " 'grocery_store' 'grocery_store' 'grocery_store' 'grocery_store'\n",
      " 'grocery_store' 'grocery_store' 'grocery_store' 'grocery_store'\n",
      " 'grocery_store' 'grocery_store' 'grocery_store' 'grocery_store'\n",
      " 'grocery_store' 'grocery_store' 'grocery_store' 'grocery_store' 'home'\n",
      " 'home' 'home' 'home' 'home' 'home' 'home' 'home' 'home' 'home' 'home'\n",
      " 'home' 'home' 'home' 'home' 'home' 'home' 'home' 'library' 'library'\n",
      " 'library' 'library' 'library' 'library' 'library' 'library' 'library'\n",
      " 'library' 'library' 'library' 'library' 'library' 'library' 'library'\n",
      " 'library' 'library' 'metro_station' 'metro_station' 'metro_station'\n",
      " 'metro_station' 'metro_station' 'metro_station' 'metro_station'\n",
      " 'metro_station' 'metro_station' 'metro_station' 'metro_station'\n",
      " 'metro_station' 'metro_station' 'metro_station' 'metro_station'\n",
      " 'metro_station' 'metro_station' 'metro_station' 'office' 'office' 'office'\n",
      " 'office' 'office' 'office' 'office' 'office' 'office' 'office' 'office'\n",
      " 'office' 'office' 'office' 'office' 'office' 'office' 'office' 'office'\n",
      " 'office' 'office' 'office' 'office' 'park' 'park' 'park' 'park' 'park'\n",
      " 'park' 'park' 'park' 'park' 'park' 'park' 'park' 'park' 'park' 'park'\n",
      " 'park' 'park' 'park' 'residential_area' 'residential_area'\n",
      " 'residential_area' 'residential_area' 'residential_area'\n",
      " 'residential_area' 'residential_area' 'residential_area'\n",
      " 'residential_area' 'residential_area' 'residential_area'\n",
      " 'residential_area' 'residential_area' 'residential_area'\n",
      " 'residential_area' 'residential_area' 'residential_area'\n",
      " 'residential_area' 'residential_area' 'residential_area'\n",
      " 'residential_area' 'train' 'train' 'train' 'train' 'train' 'train' 'train'\n",
      " 'train' 'train' 'train' 'train' 'train' 'train' 'train' 'train' 'train'\n",
      " 'train' 'train' 'train' 'tram' 'tram' 'tram' 'tram' 'tram' 'tram' 'tram'\n",
      " 'tram' 'tram' 'tram' 'tram' 'tram' 'tram' 'tram' 'tram' 'tram' 'tram'\n",
      " 'tram']\n"
     ]
    }
   ],
   "source": [
    "print test_lables"
   ]
  },
  {
   "cell_type": "code",
   "execution_count": 58,
   "metadata": {
    "collapsed": false
   },
   "outputs": [
    {
     "name": "stdout",
     "output_type": "stream",
     "text": [
      "['beach' 'bus' 'cafe/restaurant' 'car' 'city_center' 'forest_path'\n",
      " 'grocery_store' 'home' 'library' 'metro_station' 'office' 'park'\n",
      " 'residential_area' 'train' 'tram']\n"
     ]
    }
   ],
   "source": [
    "u,label =  np.unique(test_labels, return_inverse=True)\n",
    "print u"
   ]
  },
  {
   "cell_type": "code",
   "execution_count": 14,
   "metadata": {
    "collapsed": true
   },
   "outputs": [],
   "source": [
    "y,sr = librosa.load(librosa.util.example_audio_file())"
   ]
  },
  {
   "cell_type": "code",
   "execution_count": 15,
   "metadata": {
    "collapsed": false
   },
   "outputs": [
    {
     "data": {
      "text/plain": [
       "array([[  2.63330644e-07,   2.54545751e-03,   6.94285062e-02, ...,\n",
       "          3.34132614e-08,   1.35390808e-08,   7.23030095e-10],\n",
       "       [  1.48204295e-07,   1.16257764e-02,   1.33231536e+00, ...,\n",
       "          2.57257016e-07,   9.53164994e-08,   1.18527171e-09],\n",
       "       [  3.64170428e-07,   2.34068424e-02,   5.07212652e+00, ...,\n",
       "          1.63250638e-06,   3.06545325e-07,   1.45464843e-09],\n",
       "       ..., \n",
       "       [  3.65634363e-10,   2.85678888e-08,   2.12918571e-06, ...,\n",
       "          2.84671320e-11,   7.83192707e-12,   1.15972643e-13],\n",
       "       [  1.95074737e-10,   9.91002130e-09,   6.60153377e-07, ...,\n",
       "          7.60728014e-12,   2.06383001e-12,   2.43639216e-14],\n",
       "       [  8.62272286e-12,   2.35881969e-10,   4.41610798e-08, ...,\n",
       "          6.06083898e-13,   1.94372363e-13,   3.81628597e-15]])"
      ]
     },
     "execution_count": 15,
     "metadata": {},
     "output_type": "execute_result"
    }
   ],
   "source": [
    "librosa.feature.melspectrogram(y=y, sr=sr)"
   ]
  },
  {
   "cell_type": "code",
   "execution_count": 16,
   "metadata": {
    "collapsed": true
   },
   "outputs": [],
   "source": [
    "y,sr = librosa.load(\"a001_0_30.wav\")"
   ]
  },
  {
   "cell_type": "code",
   "execution_count": 17,
   "metadata": {
    "collapsed": false
   },
   "outputs": [
    {
     "name": "stdout",
     "output_type": "stream",
     "text": [
      "[ 0.01130188  0.01910209  0.01781099 ...,  0.00106823  0.00249941\n",
      "  0.00543458]\n"
     ]
    }
   ],
   "source": [
    "print y"
   ]
  },
  {
   "cell_type": "code",
   "execution_count": 18,
   "metadata": {
    "collapsed": false
   },
   "outputs": [
    {
     "name": "stdout",
     "output_type": "stream",
     "text": [
      "22050\n"
     ]
    }
   ],
   "source": [
    "print sr"
   ]
  },
  {
   "cell_type": "code",
   "execution_count": 26,
   "metadata": {
    "collapsed": true
   },
   "outputs": [],
   "source": [
    "mat = librosa.feature.mfcc(y=y, sr=sr)"
   ]
  },
  {
   "cell_type": "code",
   "execution_count": 27,
   "metadata": {
    "collapsed": false
   },
   "outputs": [
    {
     "name": "stdout",
     "output_type": "stream",
     "text": [
      "(20, 1292)\n"
     ]
    }
   ],
   "source": [
    "print mat.shape"
   ]
  },
  {
   "cell_type": "code",
   "execution_count": null,
   "metadata": {
    "collapsed": true
   },
   "outputs": [],
   "source": []
  }
 ],
 "metadata": {
  "kernelspec": {
   "display_name": "Python 2",
   "language": "python",
   "name": "python2"
  },
  "language_info": {
   "codemirror_mode": {
    "name": "ipython",
    "version": 2
   },
   "file_extension": ".py",
   "mimetype": "text/x-python",
   "name": "python",
   "nbconvert_exporter": "python",
   "pygments_lexer": "ipython2",
   "version": "2.7.12"
  }
 },
 "nbformat": 4,
 "nbformat_minor": 0
}
